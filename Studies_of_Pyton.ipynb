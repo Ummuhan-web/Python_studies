{
 "cells": [
  {
   "cell_type": "code",
   "execution_count": 3,
   "metadata": {},
   "outputs": [
    {
     "output_type": "stream",
     "name": "stdout",
     "text": "l\n<class 'tuple'>\n"
    }
   ],
   "source": [
    "a = ()\n",
    "if len(a)==0: print('l')\n",
    "print(type(a))"
   ]
  },
  {
   "cell_type": "code",
   "execution_count": 8,
   "metadata": {},
   "outputs": [
    {
     "output_type": "stream",
     "name": "stdout",
     "text": "49\n"
    }
   ],
   "source": [
    "n= 13\n",
    "total = 0\n",
    "for n in range(1,n+1,2):\n",
    " total +=n\n",
    "print(total)"
   ]
  },
  {
   "cell_type": "code",
   "execution_count": 11,
   "metadata": {},
   "outputs": [
    {
     "output_type": "stream",
     "name": "stdout",
     "text": "[1, 3, 5, 7]\n"
    }
   ],
   "source": [
    "print(list(range(1,9,2)))"
   ]
  },
  {
   "cell_type": "code",
   "execution_count": 19,
   "metadata": {},
   "outputs": [
    {
     "output_type": "stream",
     "name": "stdout",
     "text": "True\n"
    }
   ],
   "source": [
    "if 3 in [1,3,4]:\n",
    "    print(True)"
   ]
  },
  {
   "cell_type": "code",
   "execution_count": 17,
   "metadata": {},
   "outputs": [
    {
     "output_type": "stream",
     "name": "stdout",
     "text": "0\n1\n2\n3\n4\n5\n6\n7\n8\n"
    }
   ],
   "source": [
    "for i in list(range(9)):\n",
    " print(i)"
   ]
  },
  {
   "cell_type": "code",
   "execution_count": 20,
   "metadata": {},
   "outputs": [
    {
     "output_type": "stream",
     "name": "stdout",
     "text": "49\n"
    }
   ],
   "source": [
    "n =13\n",
    "print(sum(i for i in range(1,n+1,2)))"
   ]
  },
  {
   "cell_type": "code",
   "execution_count": 22,
   "metadata": {},
   "outputs": [
    {
     "output_type": "stream",
     "name": "stdout",
     "text": "25\n"
    }
   ],
   "source": [
    "b = [1,3,5,7,9]\n",
    "print(sum(b))"
   ]
  },
  {
   "cell_type": "code",
   "execution_count": 23,
   "metadata": {},
   "outputs": [
    {
     "output_type": "stream",
     "name": "stdout",
     "text": "15\n"
    }
   ],
   "source": [
    "a = (4,5,6)\n",
    "print(a[0]+ a[1]+a[2])"
   ]
  },
  {
   "cell_type": "code",
   "execution_count": 27,
   "metadata": {},
   "outputs": [
    {
     "output_type": "stream",
     "name": "stdout",
     "text": "False\n"
    }
   ],
   "source": [
    "a = (\"1/2\")\n",
    "print(eval(a)>1)"
   ]
  },
  {
   "cell_type": "code",
   "execution_count": 31,
   "metadata": {},
   "outputs": [
    {
     "output_type": "stream",
     "name": "stdout",
     "text": "True\n"
    }
   ],
   "source": [
    "a1 = ('9')\n",
    "print(eval(a1)>1)"
   ]
  },
  {
   "cell_type": "code",
   "execution_count": 33,
   "metadata": {},
   "outputs": [
    {
     "output_type": "stream",
     "name": "stdout",
     "text": "True\n"
    }
   ],
   "source": [
    "a2 =('3')\n",
    "if int(a1)>1:\n",
    "    print(True)"
   ]
  },
  {
   "cell_type": "code",
   "execution_count": 38,
   "metadata": {},
   "outputs": [
    {
     "output_type": "stream",
     "name": "stdout",
     "text": "helllloo\n"
    }
   ],
   "source": [
    "print('hell'+'lloo')"
   ]
  },
  {
   "cell_type": "code",
   "execution_count": 42,
   "metadata": {},
   "outputs": [
    {
     "output_type": "stream",
     "name": "stdout",
     "text": "20\n"
    }
   ],
   "source": [
    "print(eval(\"10*2\"))"
   ]
  },
  {
   "cell_type": "code",
   "execution_count": 67,
   "metadata": {},
   "outputs": [
    {
     "output_type": "stream",
     "name": "stdout",
     "text": "0\n"
    }
   ],
   "source": [
    "a3 = [1,3,5]\n",
    "print(a3.index(1))"
   ]
  },
  {
   "cell_type": "code",
   "execution_count": 74,
   "metadata": {},
   "outputs": [
    {
     "output_type": "stream",
     "name": "stdout",
     "text": "10\n"
    }
   ],
   "source": [
    "sizes = { \"width\": 2, \"length\": 5, \"height\": 1 }\n",
    "val = list(sizes.values())\n",
    "print(val[0]*val[1]*val[2])"
   ]
  },
  {
   "cell_type": "code",
   "execution_count": 116,
   "metadata": {},
   "outputs": [
    {
     "output_type": "stream",
     "name": "stdout",
     "text": "False\n"
    }
   ],
   "source": [
    "var = \"resu lt\"\n",
    "n = 0\n",
    "while i in list(var):\n",
    " if var.isalpha() and n<len(var) and '' not in var:\n",
    "  print(True)\n",
    "  break\n",
    " else:\n",
    "  print(False) \n",
    "  break   "
   ]
  },
  {
   "cell_type": "code",
   "execution_count": 128,
   "metadata": {},
   "outputs": [
    {
     "output_type": "stream",
     "name": "stdout",
     "text": "True\n"
    }
   ],
   "source": [
    "print(sorted('iceman')==sorted('cinema'))"
   ]
  },
  {
   "cell_type": "code",
   "execution_count": 126,
   "metadata": {},
   "outputs": [
    {
     "output_type": "stream",
     "name": "stdout",
     "text": "['a', 'c', 'e', 'i', 'm', 'n']\n['a', 'c', 'e', 'i', 'm', 'n']\n"
    }
   ],
   "source": [
    "a = 'cinema'\n",
    "b = list(a)\n",
    "b.sort()\n",
    "print(b)\n",
    "print(sorted(b))"
   ]
  },
  {
   "cell_type": "code",
   "execution_count": 153,
   "metadata": {},
   "outputs": [
    {
     "output_type": "stream",
     "name": "stdout",
     "text": "They are anagram\n"
    }
   ],
   "source": [
    "while True:\n",
    " word1 = input('please enter a word').lower().strip()\n",
    " word2 = input('please enter a word').lower().strip()\n",
    " if not word1.isalpha() and word2.isalpha():\n",
    "   print('Please do not use numeric number')\n",
    "   continue\n",
    " if sorted(word1)==sorted(word2):\n",
    "   print('They are anagram')\n",
    "   break\n",
    "   #print(sorted(word1)==sorted(word2))\n",
    " else:\n",
    "   print('They are not anagram')    \n",
    "   break"
   ]
  },
  {
   "cell_type": "code",
   "execution_count": 150,
   "metadata": {},
   "outputs": [
    {
     "output_type": "stream",
     "name": "stdout",
     "text": "False\n"
    }
   ],
   "source": [
    "w = \"2apple\"\n",
    "print(w.isalpha())"
   ]
  },
  {
   "cell_type": "code",
   "execution_count": 187,
   "metadata": {},
   "outputs": [
    {
     "output_type": "error",
     "ename": "SyntaxError",
     "evalue": "invalid syntax (<ipython-input-187-3062791331c7>, line 3)",
     "traceback": [
      "\u001b[0;36m  File \u001b[0;32m\"<ipython-input-187-3062791331c7>\"\u001b[0;36m, line \u001b[0;32m3\u001b[0m\n\u001b[0;31m    for  not i%n==0:\u001b[0m\n\u001b[0m           ^\u001b[0m\n\u001b[0;31mSyntaxError\u001b[0m\u001b[0;31m:\u001b[0m invalid syntax\n"
     ]
    }
   ],
   "source": [
    "prime_num = [2]\n",
    "for i,n in range(100):\n",
    "    for  not i%n==0:\n",
    "     print (i)  \n",
    "if pH>7:\n",
    " print(\"alkaline\")\n",
    "elif pH<7:\n",
    " print(\"acidic\")\n",
    "else:\n",
    " print(\"neutral\")"
   ]
  },
  {
   "cell_type": "code",
   "execution_count": 155,
   "metadata": {},
   "outputs": [
    {
     "output_type": "stream",
     "name": "stdout",
     "text": "[2, 3, 4, 5, 6, 7]\n"
    }
   ],
   "source": [
    "sq = (2,7)\n",
    "print(list(range(2,7+1)))"
   ]
  },
  {
   "cell_type": "code",
   "execution_count": 172,
   "metadata": {},
   "outputs": [
    {
     "output_type": "stream",
     "name": "stdout",
     "text": "M y   n a m e\n"
    }
   ],
   "source": [
    "space = \"My name\"\n",
    "print(' '.join(space))"
   ]
  },
  {
   "cell_type": "code",
   "execution_count": 167,
   "metadata": {},
   "outputs": [
    {
     "output_type": "stream",
     "name": "stdout",
     "text": "2.9\n23.33\n"
    }
   ],
   "source": [
    "nums = [1,2,3.4,5]\n",
    "print(round(sum(nums)/len(nums),1))\n",
    "print(round(23.333,2))"
   ]
  },
  {
   "cell_type": "code",
   "execution_count": 170,
   "metadata": {},
   "outputs": [
    {
     "output_type": "stream",
     "name": "stdout",
     "text": "3\n"
    }
   ],
   "source": [
    "sentence = \"i love you\"\n",
    "print(sentence.count(\" \")+1)"
   ]
  },
  {
   "cell_type": "code",
   "execution_count": 177,
   "metadata": {},
   "outputs": [
    {
     "output_type": "stream",
     "name": "stdout",
     "text": "1a2a3\n"
    }
   ],
   "source": [
    "wrd = '123'\n",
    "n = 'a'.join(wrd)\n",
    "print(n)"
   ]
  },
  {
   "cell_type": "code",
   "execution_count": 9,
   "metadata": {},
   "outputs": [
    {
     "output_type": "stream",
     "name": "stdout",
     "text": "jOIN uS\n"
    }
   ],
   "source": [
    "wrd1 = 'Join Us'\n",
    "wrd2 = (wrd1.title()).swapcase()\n",
    "print(wrd2)"
   ]
  },
  {
   "cell_type": "code",
   "execution_count": 320,
   "metadata": {
    "tags": [
     "outputPrepend",
     "outputPrepend",
     "outputPrepend",
     "outputPrepend",
     "outputPrepend",
     "outputPrepend"
    ]
   },
   "outputs": [],
   "source": [
    "prime_num = []\n",
    "for i in range(2, 100):\n",
    " for n in range(1,100):\n",
    "  if i//n==i and i/n==1:\n",
    "   prime_num.append(i)\n",
    "   print(prime_num)"
   ]
  },
  {
   "cell_type": "code",
   "execution_count": null,
   "metadata": {},
   "outputs": [],
   "source": [
    "while True:\n",
    "   number = input('Please enter a number biger than one: ')\n",
    "   if not number.isdigit():\n",
    "     print('Please enter a digit number: ')\n",
    "     continue \n",
    "   if int(number)>1:\n",
    "     for i in range(2, int(number)):\n",
    "      if int(number)%i == 0:\n",
    "       print(number,'is not a prime number.')\n",
    "       break\n",
    "     else:\n",
    "       print(number, 'is a prime number.')\n",
    "       break"
   ]
  },
  {
   "cell_type": "code",
   "execution_count": 324,
   "metadata": {},
   "outputs": [
    {
     "output_type": "stream",
     "name": "stdout",
     "text": "1,2,[4, 5, 6]\n"
    }
   ],
   "source": [
    "x,y,_,*t = [1,2,3,4,5,6]\n",
    "print(x,y,t, sep=',')"
   ]
  },
  {
   "cell_type": "code",
   "execution_count": 327,
   "metadata": {},
   "outputs": [
    {
     "output_type": "stream",
     "name": "stdout",
     "text": "[2, 3, 5, 7, 11, 13, 17, 19, 23, 29, 31, 37, 41, 43, 47, 53, 59, 61, 67, 71, 73, 79, 83, 89, 97]\n"
    }
   ],
   "source": [
    "lst=[2]\n",
    "for j in range(3, 101):\n",
    "    control=True\n",
    "    for i in range(2, j):\n",
    "        if j%i == 0:\n",
    "            control=False\n",
    "            break\n",
    "    if control==True:\n",
    "        lst.append(j)\n",
    "print(lst)"
   ]
  },
  {
   "cell_type": "code",
   "execution_count": null,
   "metadata": {},
   "outputs": [],
   "source": [
    "a4 = [[1,2], [3,4]]\n",
    "print(a4)"
   ]
  },
  {
   "cell_type": "code",
   "execution_count": 14,
   "metadata": {},
   "outputs": [
    {
     "output_type": "stream",
     "name": "stdout",
     "text": "<enumerate object at 0x106512750>\n[(0, 'aa'), (1, 'bb'), (2, 'ss'), (3, 'ww')]\n"
    }
   ],
   "source": [
    "lst2 = ('aa','bb','ss','ww')\n",
    "print(enumerate(lst2))\n",
    "print(list(enumerate(lst2)))"
   ]
  },
  {
   "cell_type": "code",
   "execution_count": 26,
   "metadata": {},
   "outputs": [
    {
     "output_type": "stream",
     "name": "stdout",
     "text": "False\nTrue\n1\nTrue\nFalse\n"
    }
   ],
   "source": [
    "a = 'weeeeuruknfn'\n",
    "print(a.startswith('ewd'))\n",
    "print(a.endswith('n'))\n",
    "print(a.count(\"w\"))\n",
    "print(a.isalpha())\n",
    "print('123'.isalpha())\n"
   ]
  },
  {
   "cell_type": "code",
   "execution_count": 46,
   "metadata": {},
   "outputs": [
    {
     "output_type": "stream",
     "name": "stdout",
     "text": "[1]\n[1, 2]\n[1, 2, 3]\n[1, 2, 3, 4]\n[1, 2, 3, 4, 6]\n[1, 2, 3, 4, 6, 12]\n"
    }
   ],
   "source": [
    "n = 12\n",
    "fact = []\n",
    "for i in range(1,n+1):\n",
    " if n%i==0:\n",
    "   fact.append(i)\n",
    "   print(fact)"
   ]
  },
  {
   "cell_type": "code",
   "execution_count": 67,
   "metadata": {},
   "outputs": [
    {
     "output_type": "stream",
     "name": "stdout",
     "text": "49\n"
    }
   ],
   "source": [
    "lst3 = [1,4,5,2,7,9,10,3,11,12]\n",
    "print(sum(sorted(lst3)[5:10]))\n"
   ]
  },
  {
   "cell_type": "code",
   "execution_count": 74,
   "metadata": {},
   "outputs": [
    {
     "output_type": "stream",
     "name": "stdout",
     "text": "['9', '9', '8', '7', '4', '1']\n"
    }
   ],
   "source": [
    "num = 147899\n",
    "print(list(str(num))[::-1])\n"
   ]
  },
  {
   "cell_type": "code",
   "execution_count": 88,
   "metadata": {},
   "outputs": [
    {
     "output_type": "stream",
     "name": "stdout",
     "text": "3\n"
    }
   ],
   "source": [
    "maj= ('2.3.45')\n",
    "print(maj.split('.')[1])\n"
   ]
  },
  {
   "cell_type": "code",
   "execution_count": 91,
   "metadata": {},
   "outputs": [
    {
     "output_type": "stream",
     "name": "stdout",
     "text": "['1,2,', ',4,', ',6,', ',7']\n"
    }
   ],
   "source": [
    "num1 = '1,2,3,4,3,6,3,7'\n",
    "print(num1.split('3'))"
   ]
  },
  {
   "cell_type": "code",
   "execution_count": 103,
   "metadata": {},
   "outputs": [
    {
     "output_type": "stream",
     "name": "stdout",
     "text": "[2, 4, 3, 6, 5, 8, 7]\n"
    }
   ],
   "source": [
    "lst6 = [1,3,4,5,6,7,8]\n",
    "new_list =[]\n",
    "for i in lst6:\n",
    " if i%2==0:\n",
    "   new_list.append(i-1)  \n",
    " elif i%2!=0:\n",
    "   new_list.append(i+1)\n",
    "print(new_list)\t"
   ]
  },
  {
   "cell_type": "code",
   "execution_count": 108,
   "metadata": {},
   "outputs": [
    {
     "output_type": "stream",
     "name": "stdout",
     "text": "<generator object <genexpr> at 0x104a3f9a8>\n[2, 4, 3, 6, 5, 8, 7]\n"
    }
   ],
   "source": [
    "lst6 = [1,3,4,5,6,7,8]\n",
    "print(i-1 for i in lst6 if i%2==0)\n",
    "print([i+1 if i%2 else i-1 for i in lst6])\n"
   ]
  },
  {
   "cell_type": "code",
   "execution_count": 112,
   "metadata": {},
   "outputs": [
    {
     "output_type": "stream",
     "name": "stdout",
     "text": "231-st\n"
    }
   ],
   "source": [
    "num = '231'\n",
    "if num.endswith('1'):\n",
    " print('231-st')"
   ]
  },
  {
   "cell_type": "code",
   "execution_count": 123,
   "metadata": {},
   "outputs": [
    {
     "output_type": "stream",
     "name": "stdout",
     "text": "aeoiiisdmf kj l\naeoiii\nsdmf kj l\n"
    }
   ],
   "source": [
    "txt = ('asdeoimf kij li')\n",
    "vowels = ''.join(ch for ch in txt if ch in 'aeiouAEIOU')\n",
    "others = ''.join(ch for ch in txt if ch not in 'aeiouAEIOU')\n",
    "print(vowels + others)\n",
    "print(vowels)\n",
    "print(others)"
   ]
  },
  {
   "cell_type": "code",
   "execution_count": 206,
   "metadata": {},
   "outputs": [
    {
     "output_type": "stream",
     "name": "stdout",
     "text": "eaeaoe\nWrlldn\n"
    }
   ],
   "source": [
    "txt1 = \"We are all done\"\n",
    "print(''.join(i for i in txt1 if i in \"aeio\"))\n",
    "print(''.join(i for i in txt1 if i not in \"aeio \"))"
   ]
  },
  {
   "cell_type": "code",
   "execution_count": 132,
   "metadata": {},
   "outputs": [
    {
     "output_type": "stream",
     "name": "stdout",
     "text": "(0, 'My name is Umm')\nMy name is Umm 0\nFalse\n"
    }
   ],
   "source": [
    "txt2 = (\"My name is Umm\", 0)\n",
    "print(txt2[::-1])\n",
    "print(*txt2)\n",
    "print(all(txt2))"
   ]
  },
  {
   "cell_type": "code",
   "execution_count": 134,
   "metadata": {},
   "outputs": [
    {
     "output_type": "stream",
     "name": "stdout",
     "text": "3\n"
    }
   ],
   "source": [
    "lst7 = [23, 456, 56,6]\n",
    "print(len(str(lst7[1])))"
   ]
  },
  {
   "cell_type": "code",
   "execution_count": 161,
   "metadata": {},
   "outputs": [
    {
     "output_type": "stream",
     "name": "stdout",
     "text": "['a', 'a', 'a', 'a', 'a', 'a']\n['a', 'a', 'a', 'a', 'a', 'a']\n['aa', 'aa', 'aa']\n[('aa', 3)]\n"
    }
   ],
   "source": [
    "ss = ('aa',3)\n",
    "print(list(ss1))\n",
    "print(list(\"aa\")*3)\n",
    "print(['aa']*3)\n",
    "print([ss])"
   ]
  },
  {
   "cell_type": "code",
   "execution_count": 220,
   "metadata": {},
   "outputs": [
    {
     "output_type": "stream",
     "name": "stdout",
     "text": "['eat', 'tea', 'ate']\n['tan', 'nat']\n['bat']\n"
    }
   ],
   "source": [
    "tx = [\"eat\", \"tea\", \"tan\", \"ate\", \"nat\", \"bat\"]\n",
    "tx1=[]\n",
    "tx2 = []\n",
    "tx3 = []\n",
    "tx = [\"eat\", \"tea\", \"tan\", \"ate\", \"nat\", \"bat\"]\n",
    "\n",
    "print(tx1)\n",
    "for ii in tx:\n",
    " if sorted(\"tan\")==sorted(ii):\n",
    "  tx2.append(ii)\n",
    "print(tx2)\n",
    "for iii in tx:\n",
    " if sorted(\"bat\")==sorted(iii):\n",
    "  tx3.append(iii)\n",
    "print(tx3)  \n",
    "\n"
   ]
  },
  {
   "cell_type": "code",
   "execution_count": 222,
   "metadata": {},
   "outputs": [
    {
     "output_type": "stream",
     "name": "stdout",
     "text": "[['eat', 'tea', 'ate'], ['tan', 'nat'], ['bat']]\n"
    }
   ],
   "source": [
    "tx = [\"eat\", \"tea\", \"tan\", \"ate\", \"nat\", \"bat\"]\n",
    "print([[i for i in tx if sorted(\"eat\")==sorted(i)],[ii for ii in tx if sorted(\"tan\")==sorted(ii)],[iii for iii in tx if sorted(\"bat\")==sorted(iii)]])"
   ]
  },
  {
   "cell_type": "code",
   "execution_count": 268,
   "metadata": {},
   "outputs": [
    {
     "output_type": "stream",
     "name": "stdout",
     "text": "[['eat'], ['tan', 'eat'], ['bat']]\n[['eat'], ['tan', 'eat', 'eat'], ['bat']]\n[['eat'], ['tan', 'eat', 'eat', 'eat'], ['bat']]\n[['eat'], ['tan', 'eat', 'eat', 'eat', 'tea'], ['bat']]\n[['eat'], ['tan', 'eat', 'eat', 'eat', 'tea', 'tea'], ['bat']]\n[['eat'], ['tan', 'eat', 'eat', 'eat', 'tea', 'tea', 'tea'], ['bat']]\n[['eat'], ['tan', 'eat', 'eat', 'eat', 'tea', 'tea', 'tea', 'tan'], ['bat']]\n[['eat'], ['tan', 'eat', 'eat', 'eat', 'tea', 'tea', 'tea', 'tan', 'tan'], ['bat']]\n[['eat'], ['tan', 'eat', 'eat', 'eat', 'tea', 'tea', 'tea', 'tan', 'tan', 'tan'], ['bat']]\n[['eat'], ['tan', 'eat', 'eat', 'eat', 'tea', 'tea', 'tea', 'tan', 'tan', 'tan', 'ate'], ['bat']]\n[['eat'], ['tan', 'eat', 'eat', 'eat', 'tea', 'tea', 'tea', 'tan', 'tan', 'tan', 'ate', 'ate'], ['bat']]\n[['eat'], ['tan', 'eat', 'eat', 'eat', 'tea', 'tea', 'tea', 'tan', 'tan', 'tan', 'ate', 'ate', 'ate'], ['bat']]\n[['eat'], ['tan', 'eat', 'eat', 'eat', 'tea', 'tea', 'tea', 'tan', 'tan', 'tan', 'ate', 'ate', 'ate', 'nat'], ['bat']]\n[['eat'], ['tan', 'eat', 'eat', 'eat', 'tea', 'tea', 'tea', 'tan', 'tan', 'tan', 'ate', 'ate', 'ate', 'nat', 'nat'], ['bat']]\n[['eat'], ['tan', 'eat', 'eat', 'eat', 'tea', 'tea', 'tea', 'tan', 'tan', 'tan', 'ate', 'ate', 'ate', 'nat', 'nat', 'nat'], ['bat']]\n[['eat'], ['tan', 'eat', 'eat', 'eat', 'tea', 'tea', 'tea', 'tan', 'tan', 'tan', 'ate', 'ate', 'ate', 'nat', 'nat', 'nat', 'bat'], ['bat']]\n[['eat'], ['tan', 'eat', 'eat', 'eat', 'tea', 'tea', 'tea', 'tan', 'tan', 'tan', 'ate', 'ate', 'ate', 'nat', 'nat', 'nat', 'bat', 'bat'], ['bat']]\n[['eat'], ['tan', 'eat', 'eat', 'eat', 'tea', 'tea', 'tea', 'tan', 'tan', 'tan', 'ate', 'ate', 'ate', 'nat', 'nat', 'nat', 'bat', 'bat', 'bat'], ['bat']]\n"
    }
   ],
   "source": [
    "tx = [\"eat\", \"tea\", \"tan\", \"ate\", \"nat\", \"bat\"]\n",
    "tx2 = [['eat'],['tan'],['bat']]\n",
    "for i in tx:\n",
    " for ii in tx2:   \n",
    "  if sorted(i)==sorted(ii):\n",
    "   tx2[0].append(i)   \n",
    "  elif sorted(i)!= sorted(ii):\n",
    "    tx2[1].append(i) \n",
    "  elif sorted(i)!= sorted(ii):\n",
    "    tx2[2].append(i)\n",
    "  print(tx2)\n",
    " \n",
    "  \n",
    " \n",
    "\n"
   ]
  },
  {
   "cell_type": "code",
   "execution_count": 274,
   "metadata": {},
   "outputs": [
    {
     "output_type": "stream",
     "name": "stdout",
     "text": "True\nFalse\n"
    }
   ],
   "source": [
    "lst8 =[1,2,3,46]\n",
    "f = ['aln', 'lan','nal']\n",
    "print(all(sorted(i)==sorted(\"lan\") for i in f))\n",
    "print(all(i!=1 for i in lst8))"
   ]
  },
  {
   "cell_type": "code",
   "execution_count": 278,
   "metadata": {},
   "outputs": [
    {
     "output_type": "stream",
     "name": "stdout",
     "text": "[4, 8, 12, 16]\n<generator object <genexpr> at 0x1071708b8>\n"
    },
    {
     "output_type": "error",
     "ename": "TypeError",
     "evalue": "'list' object is not an iterator",
     "traceback": [
      "\u001b[0;31m---------------------------------------------------------------------------\u001b[0m",
      "\u001b[0;31mTypeError\u001b[0m                                 Traceback (most recent call last)",
      "\u001b[0;32m<ipython-input-278-1ded794825a4>\u001b[0m in \u001b[0;36m<module>\u001b[0;34m\u001b[0m\n\u001b[1;32m      2\u001b[0m \u001b[0mprint\u001b[0m\u001b[0;34m(\u001b[0m\u001b[0;34m[\u001b[0m\u001b[0mi\u001b[0m\u001b[0;34m*\u001b[0m\u001b[0mlen\u001b[0m\u001b[0;34m(\u001b[0m\u001b[0marr\u001b[0m\u001b[0;34m)\u001b[0m \u001b[0;32mfor\u001b[0m \u001b[0mi\u001b[0m \u001b[0;32min\u001b[0m \u001b[0marr\u001b[0m\u001b[0;34m]\u001b[0m\u001b[0;34m)\u001b[0m\u001b[0;34m\u001b[0m\u001b[0;34m\u001b[0m\u001b[0m\n\u001b[1;32m      3\u001b[0m \u001b[0mprint\u001b[0m\u001b[0;34m(\u001b[0m\u001b[0mi\u001b[0m\u001b[0;34m*\u001b[0m\u001b[0mlen\u001b[0m\u001b[0;34m(\u001b[0m\u001b[0marr\u001b[0m\u001b[0;34m)\u001b[0m \u001b[0;32mfor\u001b[0m \u001b[0mi\u001b[0m \u001b[0;32min\u001b[0m \u001b[0marr\u001b[0m\u001b[0;34m)\u001b[0m\u001b[0;34m\u001b[0m\u001b[0;34m\u001b[0m\u001b[0m\n\u001b[0;32m----> 4\u001b[0;31m \u001b[0mprint\u001b[0m\u001b[0;34m(\u001b[0m\u001b[0mnext\u001b[0m\u001b[0;34m(\u001b[0m\u001b[0marr\u001b[0m\u001b[0;34m)\u001b[0m\u001b[0;34m)\u001b[0m\u001b[0;34m\u001b[0m\u001b[0;34m\u001b[0m\u001b[0m\n\u001b[0m",
      "\u001b[0;31mTypeError\u001b[0m: 'list' object is not an iterator"
     ]
    }
   ],
   "source": [
    "arr = [1,2,3,4]\n",
    "print([i*len(arr) for i in arr])\n",
    "print(i*len(arr) for i in arr)\n",
    "print(next(arr))\n"
   ]
  },
  {
   "cell_type": "code",
   "execution_count": null,
   "metadata": {},
   "outputs": [],
   "source": []
  }
 ],
 "metadata": {
  "language_info": {
   "codemirror_mode": {
    "name": "ipython",
    "version": 3
   },
   "file_extension": ".py",
   "mimetype": "text/x-python",
   "name": "python",
   "nbconvert_exporter": "python",
   "pygments_lexer": "ipython3",
   "version": "3.7.1-final"
  },
  "orig_nbformat": 2,
  "kernelspec": {
   "name": "python3",
   "display_name": "Python 3"
  }
 },
 "nbformat": 4,
 "nbformat_minor": 2
}